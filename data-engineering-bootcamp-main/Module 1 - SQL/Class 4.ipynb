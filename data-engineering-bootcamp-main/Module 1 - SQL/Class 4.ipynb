{
 "cells": [
  {
   "cell_type": "markdown",
   "metadata": {
    "application/vnd.databricks.v1+cell": {
     "cellMetadata": {},
     "inputWidgets": {},
     "nuid": "2e40658a-58b4-4051-a2a6-74f1c4244396",
     "showTitle": false,
     "tableResultSettingsMap": {},
     "title": ""
    }
   },
   "source": [
    "Class 4 of SQL"
   ]
  },
  {
   "cell_type": "code",
   "execution_count": 0,
   "metadata": {
    "application/vnd.databricks.v1+cell": {
     "cellMetadata": {
      "byteLimit": 2048000,
      "rowLimit": 10000
     },
     "inputWidgets": {},
     "nuid": "abd4aec3-8660-446f-a99e-5264a85daecb",
     "showTitle": false,
     "tableResultSettingsMap": {},
     "title": ""
    }
   },
   "outputs": [],
   "source": [
    "-- Find customers who placed orders above the average order amount.\n",
    "\n",
    "\n",
    "select distinct c.first_name, c.last_name , o.total_amount\n",
    "FROM customers c INNER JOIN orders o ON c.customer_id = o.customer_id WHERE o.total_amount >\n",
    "(\n",
    "SELECT AVG(total_amount) FROM orders\n",
    ")"
   ]
  },
  {
   "cell_type": "code",
   "execution_count": 0,
   "metadata": {
    "application/vnd.databricks.v1+cell": {
     "cellMetadata": {
      "byteLimit": 2048000,
      "rowLimit": 10000
     },
     "inputWidgets": {},
     "nuid": "9494ea13-4854-4389-9b49-3af8dd21c1bb",
     "showTitle": false,
     "tableResultSettingsMap": {},
     "title": ""
    }
   },
   "outputs": [],
   "source": [
    "-- List all products that have been sold more than 5 times in total.\n",
    "SELECT\n",
    "od.product_name as PRODUCT_NAME,sum(od.quantity) AS TOTAL_SOLD\n",
    "FROM order_details od GROUP BY od.product_name HAVING SUM(od.quantity) >\n",
    "(SELECT 2)"
   ]
  },
  {
   "cell_type": "code",
   "execution_count": 0,
   "metadata": {
    "application/vnd.databricks.v1+cell": {
     "cellMetadata": {
      "byteLimit": 2048000,
      "rowLimit": 10000
     },
     "inputWidgets": {},
     "nuid": "998a1eed-36af-46b4-af96-9d5e7d569e62",
     "showTitle": false,
     "tableResultSettingsMap": {},
     "title": ""
    }
   },
   "outputs": [],
   "source": [
    "--  List customers and their total quantity of products ordered.\n",
    "\n",
    "WITH customer_orders AS (\n",
    "    SELECT c.customer_id, c.first_name, SUM(od.quantity) AS total_quantity\n",
    "    FROM customers c\n",
    "    INNER JOIN orders o ON c.customer_id = o.customer_id\n",
    "    INNER JOIN order_details od ON o.order_id = od.order_id\n",
    "    GROUP BY c.customer_id, c.first_name\n",
    ")\n",
    "\n",
    "SELECT * FROM customer_orders WHERE total_quantity>3;"
   ]
  },
  {
   "cell_type": "code",
   "execution_count": 0,
   "metadata": {
    "application/vnd.databricks.v1+cell": {
     "cellMetadata": {
      "byteLimit": 2048000,
      "rowLimit": 10000
     },
     "inputWidgets": {},
     "nuid": "8f542bd4-18e5-4c5a-a04f-081359070557",
     "showTitle": false,
     "tableResultSettingsMap": {},
     "title": ""
    }
   },
   "outputs": [],
   "source": [
    "--Find products with their total sales revenue (price * quantity).\n",
    "\n",
    "\n",
    "\n",
    "WITH product_sales AS (\n",
    "    SELECT od.product_name, SUM(od.price_each * od.quantity) AS total_revenue\n",
    "    FROM order_details od \n",
    "    GROUP BY 1\n",
    ")\n",
    "\n",
    "SELECT * FROM product_sales WHERE total_revenue > 10000\n"
   ]
  },
  {
   "cell_type": "markdown",
   "metadata": {
    "application/vnd.databricks.v1+cell": {
     "cellMetadata": {},
     "inputWidgets": {},
     "nuid": "cb0f3fbd-783f-467f-ae7a-8c4f4bd5450b",
     "showTitle": false,
     "tableResultSettingsMap": {},
     "title": ""
    }
   },
   "source": [
    "### CASE Statements (SQL IF/ELSE)"
   ]
  },
  {
   "cell_type": "code",
   "execution_count": 0,
   "metadata": {
    "application/vnd.databricks.v1+cell": {
     "cellMetadata": {
      "byteLimit": 2048000,
      "rowLimit": 10000
     },
     "inputWidgets": {},
     "nuid": "a2bef1bd-1354-476d-bcd4-50c2796286ae",
     "showTitle": false,
     "tableResultSettingsMap": {
      "0": {
       "dataGridStateBlob": null,
       "filterBlob": "{\"filterGroups\":[],\"syncTimestamp\":1746874927999}",
       "queryPlanFiltersBlob": null,
       "tableResultIndex": 0
      }
     },
     "title": ""
    }
   },
   "outputs": [],
   "source": [
    "--Categorize each order as 'Small', 'Medium', 'Large'.\n",
    "\n",
    "\n",
    "SELECT o.order_id,o.total_amount, \n",
    "      CASE\n",
    "          WHEN o.total_amount<1000 THEN 'SMALL'\n",
    "          WHEN o.total_amount BETWEEN 1000 and 5000 THEN 'MEDIUM'\n",
    "          ELSE 'LARGE'\n",
    "      END AS ORDER_SIZE \n",
    "\n",
    "\n",
    "FROM orders o "
   ]
  },
  {
   "cell_type": "code",
   "execution_count": 0,
   "metadata": {
    "application/vnd.databricks.v1+cell": {
     "cellMetadata": {
      "byteLimit": 2048000,
      "rowLimit": 10000
     },
     "inputWidgets": {},
     "nuid": "6b4f3ca3-1b62-4919-96ef-d3df4149e370",
     "showTitle": false,
     "tableResultSettingsMap": {},
     "title": ""
    }
   },
   "outputs": [],
   "source": [
    "-- Categorize each order as 'Small', 'Medium', 'Large'.\n",
    "\n",
    "WITH categorized_orders AS (\n",
    "    SELECT o.order_id, o.total_amount, \n",
    "          CASE\n",
    "              WHEN o.total_amount < 1000 THEN 'SMALL'\n",
    "              WHEN o.total_amount BETWEEN 1000 AND 1500 THEN 'MEDIUM'\n",
    "              ELSE 'LARGE'\n",
    "          END AS ORDER_SIZE \n",
    "    FROM orders o\n",
    ")\n",
    "SELECT * \n",
    "FROM categorized_orders \n",
    "WHERE ORDER_SIZE = 'LARGE'"
   ]
  },
  {
   "cell_type": "code",
   "execution_count": 0,
   "metadata": {
    "application/vnd.databricks.v1+cell": {
     "cellMetadata": {
      "byteLimit": 2048000,
      "rowLimit": 10000
     },
     "inputWidgets": {},
     "nuid": "38bb23aa-59b2-44be-b0fc-b999dc151e68",
     "showTitle": false,
     "tableResultSettingsMap": {},
     "title": ""
    }
   },
   "outputs": [],
   "source": [
    "--Label customers as 'New' or 'Returning' based on order count.\n",
    "\n",
    "\n",
    "SELECT c.first_name, COUNT(o.order_id) AS total_orders,\n",
    "       CASE\n",
    "           WHEN COUNT(o.order_id) = 1 THEN 'New'\n",
    "           WHEN COUNT(o.order_id) > 1 THEN 'Returning'\n",
    "           ELSE 'No Orders'\n",
    "       END AS customer_type\n",
    "FROM customers c\n",
    "LEFT JOIN orders o ON c.customer_id = o.customer_id\n",
    "GROUP BY c.customer_id, c.first_name;\n"
   ]
  },
  {
   "cell_type": "markdown",
   "metadata": {
    "application/vnd.databricks.v1+cell": {
     "cellMetadata": {},
     "inputWidgets": {},
     "nuid": "ed78912c-1aaf-4fc9-b99d-d35ee0f5f072",
     "showTitle": false,
     "tableResultSettingsMap": {},
     "title": ""
    }
   },
   "source": [
    "## FUNCTIONS (STRIING + DATE)"
   ]
  },
  {
   "cell_type": "code",
   "execution_count": 0,
   "metadata": {
    "application/vnd.databricks.v1+cell": {
     "cellMetadata": {
      "byteLimit": 2048000,
      "rowLimit": 10000
     },
     "inputWidgets": {},
     "nuid": "b41b8793-82ab-4bb3-9f80-04d06d08930c",
     "showTitle": false,
     "tableResultSettingsMap": {},
     "title": ""
    }
   },
   "outputs": [],
   "source": [
    "SELECT UPPER(c.first_name) AS FIRST_NAME_UPPERCASE from customers c "
   ]
  },
  {
   "cell_type": "code",
   "execution_count": 0,
   "metadata": {
    "application/vnd.databricks.v1+cell": {
     "cellMetadata": {
      "byteLimit": 2048000,
      "rowLimit": 10000
     },
     "inputWidgets": {},
     "nuid": "2265b447-aacb-4264-a174-4f4d6c7ee889",
     "showTitle": false,
     "tableResultSettingsMap": {},
     "title": ""
    }
   },
   "outputs": [],
   "source": [
    "SELECT LOWER(c.first_name) AS FIRST_NAME_UPPERCASE from customers c "
   ]
  },
  {
   "cell_type": "code",
   "execution_count": 0,
   "metadata": {
    "application/vnd.databricks.v1+cell": {
     "cellMetadata": {
      "byteLimit": 2048000,
      "rowLimit": 10000
     },
     "inputWidgets": {},
     "nuid": "06352a04-f439-4bb6-a6cf-97f0fa319b11",
     "showTitle": false,
     "tableResultSettingsMap": {},
     "title": ""
    }
   },
   "outputs": [],
   "source": [
    "SELECT UPPER(CONCAT(c.first_name,\" \",c.last_name)) AS FULL_NAME from customers c "
   ]
  },
  {
   "cell_type": "code",
   "execution_count": 0,
   "metadata": {
    "application/vnd.databricks.v1+cell": {
     "cellMetadata": {
      "byteLimit": 2048000,
      "rowLimit": 10000
     },
     "inputWidgets": {},
     "nuid": "aa903d80-e986-4b0a-83d1-76f1095eaba2",
     "showTitle": false,
     "tableResultSettingsMap": {},
     "title": ""
    }
   },
   "outputs": [],
   "source": [
    "-- Extract month of each order & group orders by month.\n",
    "SELECT MONTH(o.order_date) AS order_month, count(o.order_id) AS _total_orders \n",
    "FROM orders o \n",
    "GROUP BY 1\n",
    "ORDER BY 1"
   ]
  },
  {
   "cell_type": "code",
   "execution_count": 0,
   "metadata": {
    "application/vnd.databricks.v1+cell": {
     "cellMetadata": {
      "byteLimit": 2048000,
      "rowLimit": 10000
     },
     "inputWidgets": {},
     "nuid": "0b5a9736-5536-4449-be90-6706005c0951",
     "showTitle": false,
     "tableResultSettingsMap": {},
     "title": ""
    }
   },
   "outputs": [],
   "source": [
    "-- List each customer's name + their total spend + spending category.\n",
    "\n",
    "WITH customer_spend AS (\n",
    "    SELECT c.customer_id, CONCAT(c.first_name, ' ', c.last_name) AS full_name,\n",
    "           SUM(od.quantity * od.price_each) AS total_spent\n",
    "    FROM customers c\n",
    "    INNER JOIN orders o ON c.customer_id = o.customer_id\n",
    "    INNER JOIN order_details od ON o.order_id = od.order_id\n",
    "    GROUP BY c.customer_id, c.first_name, c.last_name\n",
    ")\n",
    "\n",
    "SELECT full_name, total_spent,\n",
    "       CASE\n",
    "           WHEN total_spent < 10000 THEN 'Bronze'\n",
    "           WHEN total_spent BETWEEN 10000 AND 2000 THEN 'Silver'\n",
    "           ELSE 'Gold'\n",
    "       END AS customer_tier\n",
    "FROM customer_spend;"
   ]
  }
 ],
 "metadata": {
  "application/vnd.databricks.v1+notebook": {
   "computePreferences": null,
   "dashboards": [],
   "environmentMetadata": {
    "base_environment": "",
    "environment_version": "2"
   },
   "inputWidgetPreferences": null,
   "language": "sql",
   "notebookMetadata": {
    "mostRecentlyExecutedCommandWithImplicitDF": {
     "commandId": 7866781883781212,
     "dataframes": [
      "_sqldf"
     ]
    },
    "pythonIndentUnit": 4
   },
   "notebookName": "Class 4",
   "widgets": {}
  },
  "language_info": {
   "name": "sql"
  }
 },
 "nbformat": 4,
 "nbformat_minor": 0
}
