{
 "cells": [
  {
   "cell_type": "markdown",
   "metadata": {
    "application/vnd.databricks.v1+cell": {
     "cellMetadata": {},
     "inputWidgets": {},
     "nuid": "cc82f67e-b789-4fb9-bb15-b9186b534016",
     "showTitle": false,
     "tableResultSettingsMap": {},
     "title": ""
    }
   },
   "source": [
    "Class 5 - Windows Funciton of SQL"
   ]
  },
  {
   "cell_type": "code",
   "execution_count": 0,
   "metadata": {
    "application/vnd.databricks.v1+cell": {
     "cellMetadata": {
      "byteLimit": 2048000,
      "rowLimit": 10000
     },
     "inputWidgets": {},
     "nuid": "99c35e08-31fb-46fa-9263-7e61833c5d13",
     "showTitle": false,
     "tableResultSettingsMap": {},
     "title": ""
    }
   },
   "outputs": [],
   "source": [
    "--Gives each row a unique number based on the order_date.\n",
    "SELECT \n",
    "  order_id, \n",
    "  order_date,\n",
    "  ROW_NUMBER() OVER (ORDER BY order_date) AS row_num\n",
    "FROM orders;\n"
   ]
  },
  {
   "cell_type": "code",
   "execution_count": 0,
   "metadata": {
    "application/vnd.databricks.v1+cell": {
     "cellMetadata": {
      "byteLimit": 2048000,
      "rowLimit": 10000
     },
     "inputWidgets": {},
     "nuid": "22999880-4d3c-4375-ae51-5a9be43119df",
     "showTitle": false,
     "tableResultSettingsMap": {},
     "title": ""
    }
   },
   "outputs": [],
   "source": [
    "-- Real-Life Use Case: Show first product bought by each customer\n",
    "\n",
    "SELECT \n",
    "c.first_name,od.product_name,od.order_id,\n",
    "ROW_NUMBER() OVER(PARTITION BY c.customer_id ORDER BY o.order_date) AS PURCHASE_SEQUENCE\n",
    " FROM customers c\n",
    "JOIN orders o ON c.customer_id = o.customer_id\n",
    "JOIN order_details od ON o.order_id = od.order_id\n",
    "\n",
    "\n",
    "---The First order is that where purchase_sequence=1"
   ]
  },
  {
   "cell_type": "code",
   "execution_count": 0,
   "metadata": {
    "application/vnd.databricks.v1+cell": {
     "cellMetadata": {
      "byteLimit": 2048000,
      "rowLimit": 10000
     },
     "inputWidgets": {},
     "nuid": "10db7550-122c-4268-967a-1c9164584168",
     "showTitle": false,
     "tableResultSettingsMap": {},
     "title": ""
    }
   },
   "outputs": [],
   "source": [
    "--RANK()\n",
    "--Ranks rows by quantity; ties get same rank, but gaps are left in the sequence.\n",
    "SELECT product_name,quantity,\n",
    "RANK() OVER(ORDER BY quantity DESC) AS RANKING\n",
    " FROM order_details"
   ]
  },
  {
   "cell_type": "code",
   "execution_count": 0,
   "metadata": {
    "application/vnd.databricks.v1+cell": {
     "cellMetadata": {
      "byteLimit": 2048000,
      "rowLimit": 10000
     },
     "inputWidgets": {},
     "nuid": "39cb4aca-4a70-42c0-8723-abe614e3840b",
     "showTitle": false,
     "tableResultSettingsMap": {},
     "title": ""
    }
   },
   "outputs": [],
   "source": [
    "-- Real-Life Use Case: Assign bonus based on best-selling products in each order\n",
    "SELECT \n",
    "order_id,\n",
    "product_name,\n",
    "quantity,\n",
    "RANK() OVER(PARTITION BY order_id ORDER BY quantity DESC) AS RANKING\n",
    "\n",
    " FROM order_details"
   ]
  },
  {
   "cell_type": "code",
   "execution_count": 0,
   "metadata": {
    "application/vnd.databricks.v1+cell": {
     "cellMetadata": {
      "byteLimit": 2048000,
      "rowLimit": 10000
     },
     "inputWidgets": {},
     "nuid": "23739264-a7c0-47af-975e-959c547b6f0e",
     "showTitle": false,
     "tableResultSettingsMap": {},
     "title": ""
    }
   },
   "outputs": [],
   "source": [
    "--DENSE_RANK() -->RANK WITHOUT GAPS\n",
    "\n",
    "SELECT \n",
    "  product_name, \n",
    "  quantity,\n",
    "  DENSE_RANK() OVER (ORDER BY quantity DESC) AS DENSE_RANK,\n",
    "  RANK() OVER (ORDER BY quantity DESC) AS RANK\n",
    "FROM order_details;\n"
   ]
  },
  {
   "cell_type": "code",
   "execution_count": 0,
   "metadata": {
    "application/vnd.databricks.v1+cell": {
     "cellMetadata": {
      "byteLimit": 2048000,
      "rowLimit": 10000
     },
     "inputWidgets": {},
     "nuid": "c3ba6fec-bf20-4084-a3ed-17212f82f595",
     "showTitle": false,
     "tableResultSettingsMap": {},
     "title": ""
    }
   },
   "outputs": [],
   "source": [
    "--  Real-Life Use Case: Label product popularity tiers in clean rank buckets\n",
    "\n",
    "SELECT \n",
    "product_name,\n",
    "SUM(quantity) AS TOTAL_QUANTITY,\n",
    "DENSE_RANK() OVER (ORDER BY SUM(quantity) DESC) AS POPULARITY_RANK\n",
    "FROM order_details\n",
    "GROUP BY 1"
   ]
  },
  {
   "cell_type": "markdown",
   "metadata": {
    "application/vnd.databricks.v1+cell": {
     "cellMetadata": {},
     "inputWidgets": {},
     "nuid": "ffac4f89-302a-4d0d-b33d-f98ab24cd91b",
     "showTitle": false,
     "tableResultSettingsMap": {},
     "title": ""
    }
   },
   "source": []
  },
  {
   "cell_type": "code",
   "execution_count": 0,
   "metadata": {
    "application/vnd.databricks.v1+cell": {
     "cellMetadata": {
      "byteLimit": 2048000,
      "rowLimit": 10000
     },
     "inputWidgets": {},
     "nuid": "2bc3aec8-1505-49d5-9288-6096ae0b3644",
     "showTitle": false,
     "tableResultSettingsMap": {},
     "title": ""
    }
   },
   "outputs": [],
   "source": [
    "--LAG() - COMPARE WITH PREVIOUS ROWS\n",
    "\n",
    "SELECT\n",
    "order_id,order_date,\n",
    "LAG(order_date) OVER(ORDER BY order_date) AS PREVIOUS_ORDER_DATE\n",
    " FROM ORDERS"
   ]
  },
  {
   "cell_type": "code",
   "execution_count": 0,
   "metadata": {
    "application/vnd.databricks.v1+cell": {
     "cellMetadata": {
      "byteLimit": 2048000,
      "rowLimit": 10000
     },
     "inputWidgets": {},
     "nuid": "eb239bd1-824c-48e9-957b-31270de434c8",
     "showTitle": false,
     "tableResultSettingsMap": {},
     "title": ""
    }
   },
   "outputs": [],
   "source": [
    "-- Real-Life Use Case: Analyze customer's order trends (Did they buy more/less?)\n",
    "SELECT \n",
    "  c.first_name, \n",
    "  o.order_id, \n",
    "  od.quantity,\n",
    "  LAG(od.quantity) OVER (PARTITION BY c.customer_id ORDER BY o.order_date) AS previous_quantity\n",
    "FROM customers c\n",
    "JOIN orders o ON c.customer_id = o.customer_id\n",
    "JOIN order_details od ON o.order_id = od.order_id;"
   ]
  },
  {
   "cell_type": "code",
   "execution_count": 0,
   "metadata": {
    "application/vnd.databricks.v1+cell": {
     "cellMetadata": {
      "byteLimit": 2048000,
      "rowLimit": 10000
     },
     "inputWidgets": {},
     "nuid": "4e766c46-2a4a-42b6-8f31-3cd56d95ca73",
     "showTitle": false,
     "tableResultSettingsMap": {},
     "title": ""
    }
   },
   "outputs": [],
   "source": [
    "--LEAD() - COMPARE WITH NEXT ROWS\n",
    "\n",
    "SELECT\n",
    "order_id,order_date,\n",
    "LEAD(order_date) OVER(ORDER BY order_date) AS NEXT_ORDER_DATE\n",
    " FROM ORDERS"
   ]
  },
  {
   "cell_type": "code",
   "execution_count": 0,
   "metadata": {
    "application/vnd.databricks.v1+cell": {
     "cellMetadata": {
      "byteLimit": 2048000,
      "rowLimit": 10000
     },
     "inputWidgets": {},
     "nuid": "f3d27f19-5171-4fdb-ad74-2239d5ea6c75",
     "showTitle": false,
     "tableResultSettingsMap": {},
     "title": ""
    }
   },
   "outputs": [],
   "source": [
    "--Real-Life Use Case: Predict what customers might buy next\n",
    "\n",
    "SELECT \n",
    "  c.first_name, \n",
    "  od.product_name,\n",
    "  LEAD(od.product_name) OVER (PARTITION BY c.customer_id ORDER BY o.order_date) AS possible_next_product\n",
    "FROM customers c\n",
    "JOIN orders o ON c.customer_id = o.customer_id\n",
    "JOIN order_details od ON o.order_id = od.order_id;\n"
   ]
  },
  {
   "cell_type": "code",
   "execution_count": 0,
   "metadata": {
    "application/vnd.databricks.v1+cell": {
     "cellMetadata": {
      "byteLimit": 2048000,
      "rowLimit": 10000
     },
     "inputWidgets": {},
     "nuid": "418efbe9-a6d1-412a-9939-33f6453cc6b8",
     "showTitle": false,
     "tableResultSettingsMap": {},
     "title": ""
    }
   },
   "outputs": [],
   "source": [
    "--SUM() ---> RUNNING TOTAL OR Cummulative Sum \n",
    "\n",
    "select order_id,product_name,quantity,\n",
    "SUM(quantity) OVER(ORDER BY order_id) AS CUMMULATIVE_SUM\n",
    "from order_details"
   ]
  },
  {
   "cell_type": "code",
   "execution_count": 0,
   "metadata": {
    "application/vnd.databricks.v1+cell": {
     "cellMetadata": {
      "byteLimit": 2048000,
      "rowLimit": 10000
     },
     "inputWidgets": {},
     "nuid": "1d6a865f-c665-47b0-81e8-657a28e00979",
     "showTitle": false,
     "tableResultSettingsMap": {},
     "title": ""
    }
   },
   "outputs": [],
   "source": [
    "select first_name, department,salary,\n",
    "SUM(salary) OVER(order by emp_id) as RUNNING_TOTAL \n",
    "from employees"
   ]
  },
  {
   "cell_type": "code",
   "execution_count": 0,
   "metadata": {
    "application/vnd.databricks.v1+cell": {
     "cellMetadata": {},
     "inputWidgets": {},
     "nuid": "48ec7ed6-0dff-4051-ac02-14c80d531e50",
     "showTitle": false,
     "tableResultSettingsMap": {},
     "title": ""
    }
   },
   "outputs": [],
   "source": []
  }
 ],
 "metadata": {
  "application/vnd.databricks.v1+notebook": {
   "computePreferences": null,
   "dashboards": [],
   "environmentMetadata": {
    "base_environment": "",
    "environment_version": "2"
   },
   "inputWidgetPreferences": null,
   "language": "sql",
   "notebookMetadata": {},
   "notebookName": "Class 5- Windows Funtions",
   "widgets": {}
  },
  "language_info": {
   "name": "sql"
  }
 },
 "nbformat": 4,
 "nbformat_minor": 0
}
