{
 "cells": [
  {
   "cell_type": "markdown",
   "metadata": {
    "application/vnd.databricks.v1+cell": {
     "cellMetadata": {},
     "inputWidgets": {},
     "nuid": "06effdca-cb0f-4c5e-81b8-7bc06f7add49",
     "showTitle": false,
     "tableResultSettingsMap": {},
     "title": ""
    }
   },
   "source": [
    "# Class 5: Error handling and Logging"
   ]
  },
  {
   "cell_type": "code",
   "execution_count": 0,
   "metadata": {
    "application/vnd.databricks.v1+cell": {
     "cellMetadata": {
      "byteLimit": 2048000,
      "rowLimit": 10000
     },
     "inputWidgets": {},
     "nuid": "cae2f52e-7afa-4914-a878-34d9260bac75",
     "showTitle": false,
     "tableResultSettingsMap": {},
     "title": ""
    }
   },
   "outputs": [],
   "source": [
    "marks = int(input(\"Enter your marks: \"))\n",
    "print(\"Normalized Score:\", 100 / marks)"
   ]
  },
  {
   "cell_type": "code",
   "execution_count": 0,
   "metadata": {
    "application/vnd.databricks.v1+cell": {
     "cellMetadata": {
      "byteLimit": 2048000,
      "rowLimit": 10000
     },
     "inputWidgets": {},
     "nuid": "f02fda7c-8935-482e-a467-845943d698b4",
     "showTitle": false,
     "tableResultSettingsMap": {},
     "title": ""
    }
   },
   "outputs": [],
   "source": [
    "#try-except \n",
    "try:\n",
    "    marks = int(input(\"Enter your marks: \"))\n",
    "    print(\"Normalized Score:\", 100 / marks)\n",
    "\n",
    "except ZeroDivisionError:\n",
    "    print(\"❌ Cannot divide by zero\")\n",
    "except ValueError:\n",
    "    print(\"❌ Please enter a valid number\")\n"
   ]
  },
  {
   "cell_type": "code",
   "execution_count": 0,
   "metadata": {
    "application/vnd.databricks.v1+cell": {
     "cellMetadata": {
      "byteLimit": 2048000,
      "rowLimit": 10000
     },
     "inputWidgets": {},
     "nuid": "76321e0c-82a2-464e-8e46-219eed6a6160",
     "showTitle": false,
     "tableResultSettingsMap": {},
     "title": ""
    }
   },
   "outputs": [],
   "source": [
    "#Catch Multiple Errors + Use Else/Finally\n",
    "try:\n",
    "    a = int(input(\"Enter number A: \"))\n",
    "    b = int(input(\"Enter number B: \"))\n",
    "    result = a / b\n",
    "\n",
    "except ZeroDivisionError:\n",
    "    print(\"⚠️ Cannot divide by 0\")\n",
    "\n",
    "except ValueError:\n",
    "    print(\"⚠️ Enter only numbers\")\n",
    "    \n",
    "else:\n",
    "    print(\"Result:\", result)\n",
    "finally:\n",
    "    print(\"✅ Calculator task done\")\n"
   ]
  },
  {
   "cell_type": "code",
   "execution_count": 0,
   "metadata": {
    "application/vnd.databricks.v1+cell": {
     "cellMetadata": {
      "byteLimit": 2048000,
      "rowLimit": 10000
     },
     "inputWidgets": {},
     "nuid": "41780281-a222-46ea-aa1e-c5f3b121e231",
     "showTitle": false,
     "tableResultSettingsMap": {},
     "title": ""
    }
   },
   "outputs": [],
   "source": [
    "#How would you handle if someone enters a string for age in a form?\n",
    "age = input(\"Enter age: \")\n",
    "if age.isdigit():\n",
    "    print(\"Valid age:\", int(age))\n",
    "else:\n",
    "    print(\"⚠️ Invalid input — must be a number\")\n"
   ]
  },
  {
   "cell_type": "markdown",
   "metadata": {
    "application/vnd.databricks.v1+cell": {
     "cellMetadata": {},
     "inputWidgets": {},
     "nuid": "60561080-bd02-4278-a2ba-00ff157f95b9",
     "showTitle": false,
     "tableResultSettingsMap": {},
     "title": ""
    }
   },
   "source": [
    "## **Intro to Logging (Real-World Tracking)**"
   ]
  },
  {
   "cell_type": "code",
   "execution_count": 0,
   "metadata": {
    "application/vnd.databricks.v1+cell": {
     "cellMetadata": {
      "byteLimit": 2048000,
      "rowLimit": 10000
     },
     "inputWidgets": {},
     "nuid": "fd4a8c26-bfe7-4e7e-b082-e2517fcb707f",
     "showTitle": false,
     "tableResultSettingsMap": {},
     "title": ""
    }
   },
   "outputs": [],
   "source": [
    "import logging\n",
    "\n",
    "logging.basicConfig(level=logging.DEBUG)\n",
    "\n",
    "logging.debug(\"🛠 Debug — Internal variable set\")\n",
    "logging.info(\"ℹ️ Info — Starting process\")\n",
    "logging.warning(\"⚠️ Warning — Using default config\")\n",
    "logging.error(\"❌ Error — Invalid input received\")\n",
    "logging.critical(\"🔥 Critical — System failure\")"
   ]
  },
  {
   "cell_type": "code",
   "execution_count": 0,
   "metadata": {
    "application/vnd.databricks.v1+cell": {
     "cellMetadata": {
      "byteLimit": 2048000,
      "implicitDf": true,
      "rowLimit": 10000
     },
     "inputWidgets": {},
     "nuid": "1737016d-799b-40a5-85bc-c5ba774ac7f8",
     "showTitle": false,
     "tableResultSettingsMap": {},
     "title": ""
    }
   },
   "outputs": [],
   "source": [
    "%sql \n",
    "\n",
    "CREATE TABLE LOGGING_INFO(\n",
    "name STRING,\n",
    "Status STRING,\n",
    "date  STRING\n",
    "\n",
    ")"
   ]
  },
  {
   "cell_type": "code",
   "execution_count": 0,
   "metadata": {
    "application/vnd.databricks.v1+cell": {
     "cellMetadata": {
      "byteLimit": 2048000,
      "implicitDf": true,
      "rowLimit": 10000
     },
     "inputWidgets": {},
     "nuid": "322bef95-ab4a-480d-b44f-ea3eeaf09579",
     "showTitle": false,
     "tableResultSettingsMap": {},
     "title": ""
    }
   },
   "outputs": [],
   "source": [
    "%sql\n",
    "select * from LOGGING_INFO"
   ]
  },
  {
   "cell_type": "code",
   "execution_count": 0,
   "metadata": {
    "application/vnd.databricks.v1+cell": {
     "cellMetadata": {},
     "inputWidgets": {},
     "nuid": "99f66780-7f14-4b87-9799-71baa9b7806a",
     "showTitle": false,
     "tableResultSettingsMap": {},
     "title": ""
    }
   },
   "outputs": [],
   "source": [
    "def update_status():\n",
    "    #some update statements\n",
    "\n",
    "def insert_status():\n",
    "    #insert about new job\n",
    "\n",
    "\n"
   ]
  }
 ],
 "metadata": {
  "application/vnd.databricks.v1+notebook": {
   "computePreferences": null,
   "dashboards": [],
   "environmentMetadata": {
    "base_environment": "",
    "environment_version": "2"
   },
   "inputWidgetPreferences": null,
   "language": "python",
   "notebookMetadata": {
    "mostRecentlyExecutedCommandWithImplicitDF": {
     "commandId": 5577893561002735,
     "dataframes": [
      "_sqldf"
     ]
    },
    "pythonIndentUnit": 4
   },
   "notebookName": "Class 3 Python Hands-on",
   "widgets": {}
  },
  "language_info": {
   "name": "python"
  }
 },
 "nbformat": 4,
 "nbformat_minor": 0
}
