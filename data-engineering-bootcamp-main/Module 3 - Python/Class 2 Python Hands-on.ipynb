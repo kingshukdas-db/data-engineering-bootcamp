{
 "cells": [
  {
   "cell_type": "markdown",
   "metadata": {
    "application/vnd.databricks.v1+cell": {
     "cellMetadata": {},
     "inputWidgets": {},
     "nuid": "c855acd8-4085-41e2-b982-c73e29fad445",
     "showTitle": false,
     "tableResultSettingsMap": {},
     "title": ""
    }
   },
   "source": [
    "# Class 4: File Handling"
   ]
  },
  {
   "cell_type": "code",
   "execution_count": 0,
   "metadata": {
    "application/vnd.databricks.v1+cell": {
     "cellMetadata": {
      "byteLimit": 2048000,
      "rowLimit": 10000
     },
     "inputWidgets": {},
     "nuid": "90e61ba1-034e-4635-bf31-62b87fb62e62",
     "showTitle": false,
     "tableResultSettingsMap": {},
     "title": ""
    }
   },
   "outputs": [],
   "source": [
    "#Basic Read the CSV File\n",
    "import csv\n",
    "\n",
    "with open('global_food_wastage_dataset.csv',mode='r') as file:\n",
    "    reader=csv.reader(file)\n",
    "    \n",
    "    #next is used when you want to skip the header of the csv\n",
    "    next(reader)\n",
    "    for row in reader:\n",
    "        print(row)"
   ]
  },
  {
   "cell_type": "code",
   "execution_count": 0,
   "metadata": {
    "application/vnd.databricks.v1+cell": {
     "cellMetadata": {
      "byteLimit": 2048000,
      "rowLimit": 10000
     },
     "inputWidgets": {},
     "nuid": "97bde671-516a-4db9-a4a7-05c3e836ab2c",
     "showTitle": false,
     "tableResultSettingsMap": {},
     "title": ""
    }
   },
   "outputs": [],
   "source": [
    "import csv\n",
    "\n",
    "#only use some part of the file\n",
    "\n",
    "with open('global_food_wastage_dataset.csv',mode='r') as file:\n",
    "    reader=csv.DictReader(file)\n",
    "    \n",
    "   \n",
    "    for row in reader:\n",
    "        print(row['Country'])"
   ]
  },
  {
   "cell_type": "markdown",
   "metadata": {
    "application/vnd.databricks.v1+cell": {
     "cellMetadata": {},
     "inputWidgets": {},
     "nuid": "950cfe82-4345-4204-867a-456db31ad581",
     "showTitle": false,
     "tableResultSettingsMap": {},
     "title": ""
    }
   },
   "source": [
    "### **Writing to CSV**"
   ]
  },
  {
   "cell_type": "code",
   "execution_count": 0,
   "metadata": {
    "application/vnd.databricks.v1+cell": {
     "cellMetadata": {
      "byteLimit": 2048000,
      "rowLimit": 10000
     },
     "inputWidgets": {},
     "nuid": "fd3c9de8-1c92-48fe-9208-9ec6f9079d3b",
     "showTitle": false,
     "tableResultSettingsMap": {},
     "title": ""
    }
   },
   "outputs": [],
   "source": [
    "#Create Output File\n",
    "\n",
    "with open('output.csv',mode='w') as file:\n",
    "    writer=csv.writer(file)\n",
    "    writer.writerow(['Country','Wastage'])"
   ]
  },
  {
   "cell_type": "code",
   "execution_count": 0,
   "metadata": {
    "application/vnd.databricks.v1+cell": {
     "cellMetadata": {
      "byteLimit": 2048000,
      "rowLimit": 10000
     },
     "inputWidgets": {},
     "nuid": "190f4bcc-fde7-4bc7-9f64-b7fcfcb9da63",
     "showTitle": false,
     "tableResultSettingsMap": {},
     "title": ""
    }
   },
   "outputs": [],
   "source": [
    "#Read Lineby Line Logging File\n",
    "with open('log.txt',mode='r') as file:\n",
    "    count=0\n",
    "    for line in file:\n",
    "        if \"ERROR\" in line:\n",
    "            print(f\"🚨Alert at Line {count}:{line.strip()}\")\n",
    "        count+=1"
   ]
  },
  {
   "cell_type": "code",
   "execution_count": 0,
   "metadata": {
    "application/vnd.databricks.v1+cell": {
     "cellMetadata": {
      "byteLimit": 2048000,
      "rowLimit": 10000
     },
     "inputWidgets": {},
     "nuid": "2d7576a4-e699-42f4-9854-243fe4a503c8",
     "showTitle": false,
     "tableResultSettingsMap": {},
     "title": ""
    }
   },
   "outputs": [],
   "source": [
    "#Fetching Data from API\n",
    "\n",
    "import requests\n",
    "\n",
    "url = \"https://cricbuzz-cricket.p.rapidapi.com/mcenter/v1/41881/comm\"\n",
    "\n",
    "headers = {\n",
    "\t\"x-rapidapi-key\": \"735d1841c7msh5908b4d65739c2ap1c43c0jsnff541268d977\",\n",
    "\t\"x-rapidapi-host\": \"cricbuzz-cricket.p.rapidapi.com\"\n",
    "}\n",
    "\n",
    "response = requests.get(url, headers=headers)\n",
    "\n",
    "print(response.json())"
   ]
  },
  {
   "cell_type": "markdown",
   "metadata": {
    "application/vnd.databricks.v1+cell": {
     "cellMetadata": {},
     "inputWidgets": {},
     "nuid": "4306754e-f8aa-424f-af0c-4041e3edd65d",
     "showTitle": false,
     "tableResultSettingsMap": {},
     "title": ""
    }
   },
   "source": [
    "## 🧪 MINI PROJECT: File + API + Logic\n",
    "_✅ Task:_\n",
    "- Fetch users from API\n",
    "- Filter users from a specific city\n",
    "- Write to a CSV"
   ]
  },
  {
   "cell_type": "code",
   "execution_count": 0,
   "metadata": {
    "application/vnd.databricks.v1+cell": {
     "cellMetadata": {
      "byteLimit": 2048000,
      "rowLimit": 10000
     },
     "inputWidgets": {},
     "nuid": "9de3dd72-92c2-47f8-8b91-e20556136c57",
     "showTitle": false,
     "tableResultSettingsMap": {},
     "title": ""
    }
   },
   "outputs": [],
   "source": [
    "import requests, csv\n",
    "\n",
    "response = requests.get('https://jsonplaceholder.typicode.com/users')\n",
    "\n",
    "if response.status_code == 200:\n",
    "    users = response.json()\n",
    "\n",
    "    with open('city_users.csv', 'w', newline='') as file:\n",
    "        writer = csv.writer(file)\n",
    "        writer.writerow(['Name', 'City'])\n",
    "\n",
    "        for user in users:\n",
    "            if user['address']['city'] == 'South Christy':\n",
    "                writer.writerow([user['name'], user['address']['city']])\n",
    "else:\n",
    "    print(\"Failed to fetch data\")\n"
   ]
  }
 ],
 "metadata": {
  "application/vnd.databricks.v1+notebook": {
   "computePreferences": null,
   "dashboards": [],
   "environmentMetadata": {
    "base_environment": "",
    "environment_version": "2"
   },
   "inputWidgetPreferences": null,
   "language": "python",
   "notebookMetadata": {
    "pythonIndentUnit": 4
   },
   "notebookName": "Class 2 Python Hands-on",
   "widgets": {}
  },
  "language_info": {
   "name": "python"
  }
 },
 "nbformat": 4,
 "nbformat_minor": 0
}
