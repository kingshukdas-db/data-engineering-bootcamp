{
 "cells": [
  {
   "cell_type": "markdown",
   "metadata": {
    "application/vnd.databricks.v1+cell": {
     "cellMetadata": {},
     "inputWidgets": {},
     "nuid": "cb93b9c2-5ca3-4513-ac93-9538d848321f",
     "showTitle": false,
     "tableResultSettingsMap": {},
     "title": ""
    }
   },
   "source": [
    "# **Class 8: OOP in Python**"
   ]
  },
  {
   "cell_type": "markdown",
   "metadata": {
    "application/vnd.databricks.v1+cell": {
     "cellMetadata": {},
     "inputWidgets": {},
     "nuid": "3d1149aa-ec16-4eef-b6b8-d107b6d59c68",
     "showTitle": false,
     "tableResultSettingsMap": {},
     "title": ""
    }
   },
   "source": [
    "- Data Engineers build reusable tools: readers, transformers, loggers.\n",
    "- OOP helps you modularize, scale, and reorganize pipeline steps cleanly.\n",
    "- Instead of repeating code for each file format/API — define a class once, use everywhere."
   ]
  },
  {
   "cell_type": "markdown",
   "metadata": {
    "application/vnd.databricks.v1+cell": {
     "cellMetadata": {},
     "inputWidgets": {},
     "nuid": "b202f8f6-876e-437d-b631-8d8413c52190",
     "showTitle": false,
     "tableResultSettingsMap": {},
     "title": ""
    }
   },
   "source": [
    "## Classes & Objects (Core Foundation)"
   ]
  },
  {
   "cell_type": "code",
   "execution_count": 0,
   "metadata": {
    "application/vnd.databricks.v1+cell": {
     "cellMetadata": {
      "byteLimit": 2048000,
      "rowLimit": 10000
     },
     "inputWidgets": {},
     "nuid": "749bd726-7f30-43e0-810e-b2fc63623cd5",
     "showTitle": false,
     "tableResultSettingsMap": {},
     "title": ""
    }
   },
   "outputs": [],
   "source": [
    "class Customer:\n",
    "  def __init__(self,name):\n",
    "    self.name = name\n",
    "\n",
    "c1=Customer('Anurag')\n",
    "print(c1.name)"
   ]
  },
  {
   "cell_type": "code",
   "execution_count": 0,
   "metadata": {
    "application/vnd.databricks.v1+cell": {
     "cellMetadata": {
      "byteLimit": 2048000,
      "rowLimit": 10000
     },
     "inputWidgets": {},
     "nuid": "844b0a68-50d6-41e2-99fb-1da2345d883f",
     "showTitle": false,
     "tableResultSettingsMap": {},
     "title": ""
    }
   },
   "outputs": [],
   "source": [
    "#Build a PipelineStep Class\n",
    "\n",
    "class PipelineStep:\n",
    "\n",
    "    def __init__(self, step_name):\n",
    "        self.step_name = step_name\n",
    "    \n",
    "    def execute(self):\n",
    "        print(f\"🚀 Executing step: {self.step_name}\")\n",
    "\n",
    "ingest=PipelineStep(\"Ingestion\")\n",
    "transform=PipelineStep(\"Tranformation\")\n",
    "\n",
    "ingest.execute()\n",
    "transform.execute()"
   ]
  },
  {
   "cell_type": "markdown",
   "metadata": {
    "application/vnd.databricks.v1+cell": {
     "cellMetadata": {},
     "inputWidgets": {},
     "nuid": "8703e87e-7d9f-43ed-b40f-eb8ff03e81ac",
     "showTitle": false,
     "tableResultSettingsMap": {},
     "title": ""
    }
   },
   "source": [
    "##  Encapsulation – Protect Internal Logic"
   ]
  },
  {
   "cell_type": "code",
   "execution_count": 0,
   "metadata": {
    "application/vnd.databricks.v1+cell": {
     "cellMetadata": {
      "byteLimit": 2048000,
      "rowLimit": 10000
     },
     "inputWidgets": {},
     "nuid": "484bbe24-866f-4c4c-979a-c3736116f4d9",
     "showTitle": false,
     "tableResultSettingsMap": {},
     "title": ""
    }
   },
   "outputs": [],
   "source": [
    "class DatabaseConnector:\n",
    "    def __init__(self):\n",
    "        self._credentials = \"user:pass@123\"   #protected Variable credential\n",
    "\n",
    "    \n",
    "    def connect(self):\n",
    "        print(\"🔐 Connecting using credentials...\")\n",
    "        return \"DB connection established\"\n",
    "    \n",
    "db=DatabaseConnector()\n",
    "print(db.connect())\n"
   ]
  },
  {
   "cell_type": "markdown",
   "metadata": {
    "application/vnd.databricks.v1+cell": {
     "cellMetadata": {},
     "inputWidgets": {},
     "nuid": "097b8fa2-5a94-44d5-b086-3d6b206a69c2",
     "showTitle": false,
     "tableResultSettingsMap": {},
     "title": ""
    }
   },
   "source": [
    "##  Inheritance – Reuse Code with Variants"
   ]
  },
  {
   "cell_type": "code",
   "execution_count": 0,
   "metadata": {
    "application/vnd.databricks.v1+cell": {
     "cellMetadata": {
      "byteLimit": 2048000,
      "rowLimit": 10000
     },
     "inputWidgets": {},
     "nuid": "128851a7-e3eb-4bc5-9640-7630760467c5",
     "showTitle": false,
     "tableResultSettingsMap": {},
     "title": ""
    }
   },
   "outputs": [],
   "source": [
    "class Reader():\n",
    "  def read(self):\n",
    "    return \"Reading from Base Reader....\"\n",
    "\n",
    "\n",
    "class CSVReader(Reader):\n",
    "  def read(self):\n",
    "    return \"📄 Reading from CSV\"\n",
    "\n",
    "\n",
    "class APIReader(Reader):\n",
    "    def read(self):\n",
    "        return \"🌐 Fetching from API\"\n",
    "      \n",
    "\n",
    "print(CSVReader().read())\n",
    "print(APIReader().read())"
   ]
  },
  {
   "cell_type": "markdown",
   "metadata": {
    "application/vnd.databricks.v1+cell": {
     "cellMetadata": {},
     "inputWidgets": {},
     "nuid": "a2a3c4a0-c6b4-4a87-8c91-a93e701ee2c2",
     "showTitle": false,
     "tableResultSettingsMap": {},
     "title": ""
    }
   },
   "source": [
    "## Polymorphism – Same Interface, Different Behavior"
   ]
  },
  {
   "cell_type": "code",
   "execution_count": 0,
   "metadata": {
    "application/vnd.databricks.v1+cell": {
     "cellMetadata": {
      "byteLimit": 2048000,
      "rowLimit": 10000
     },
     "inputWidgets": {},
     "nuid": "b2071dbe-71e9-4a9a-8870-8394b7177417",
     "showTitle": false,
     "tableResultSettingsMap": {},
     "title": ""
    }
   },
   "outputs": [],
   "source": [
    "def run_reader(reader):\n",
    "  print(reader.read())\n",
    "\n",
    "run_reader(CSVReader())\n",
    "run_reader(APIReader())"
   ]
  },
  {
   "cell_type": "markdown",
   "metadata": {
    "application/vnd.databricks.v1+cell": {
     "cellMetadata": {},
     "inputWidgets": {},
     "nuid": "b112f522-ea5d-4986-ab83-f63a96ca3c44",
     "showTitle": false,
     "tableResultSettingsMap": {},
     "title": ""
    }
   },
   "source": [
    "## Abstraction – Enforce Structure Across Team"
   ]
  },
  {
   "cell_type": "code",
   "execution_count": 0,
   "metadata": {
    "application/vnd.databricks.v1+cell": {
     "cellMetadata": {
      "byteLimit": 2048000,
      "rowLimit": 10000
     },
     "inputWidgets": {},
     "nuid": "f0995805-0cdd-4718-a6e4-bcc1401cef6e",
     "showTitle": false,
     "tableResultSettingsMap": {},
     "title": ""
    }
   },
   "outputs": [],
   "source": [
    "from abc import ABC, abstractmethod\n",
    "\n",
    "class Ingestor(ABC):\n",
    "    @abstractmethod\n",
    "    def read(self):\n",
    "        pass\n",
    "\n",
    "class CSVIngestor(Ingestor):\n",
    "    def read(self):\n",
    "        return \"Reading CSV...\"\n",
    "\n",
    "class APIIngestor(Ingestor):\n",
    "    def read(self):\n",
    "        return \"Calling API...\"\n",
    "\n",
    "def run(ingestor):\n",
    "    print(ingestor.read())\n",
    "\n",
    "run(CSVIngestor())\n",
    "run(APIIngestor())\n"
   ]
  },
  {
   "cell_type": "markdown",
   "metadata": {
    "application/vnd.databricks.v1+cell": {
     "cellMetadata": {},
     "inputWidgets": {},
     "nuid": "a3b08944-e791-4dfe-b974-2cc215b72098",
     "showTitle": false,
     "tableResultSettingsMap": {},
     "title": ""
    }
   },
   "source": [
    "#  Real Data Pipeline: OOP Version"
   ]
  },
  {
   "cell_type": "code",
   "execution_count": 0,
   "metadata": {
    "application/vnd.databricks.v1+cell": {
     "cellMetadata": {
      "byteLimit": 2048000,
      "rowLimit": 10000
     },
     "inputWidgets": {},
     "nuid": "89388e84-e06e-4353-9171-cc26f82c0ce5",
     "showTitle": false,
     "tableResultSettingsMap": {},
     "title": ""
    }
   },
   "outputs": [],
   "source": [
    "class FileIngestor:\n",
    "    def __init__(self, path):\n",
    "        self.path = path\n",
    "\n",
    "    def read(self):\n",
    "        print(f\"Reading data from {self.path}\")\n",
    "        return f\"Raw data from {self.path}\"\n",
    "\n",
    "class Cleaner:\n",
    "    def clean(self, data):\n",
    "        print(\"Cleaning data...\")\n",
    "        return f\"Cleaned version of: {data}\"\n",
    "\n",
    "class Writer:\n",
    "    def write(self, data):\n",
    "        print(f\"Writing data: {data}\")\n",
    "        return \"Write success\"\n",
    "\n",
    "# Execute pipeline\n",
    "reader = FileIngestor(\"data.csv\")\n",
    "raw_data = reader.read()\n",
    "\n",
    "cleaned = Cleaner().clean(raw_data)\n",
    "Writer().write(cleaned)\n"
   ]
  },
  {
   "cell_type": "code",
   "execution_count": 0,
   "metadata": {
    "application/vnd.databricks.v1+cell": {
     "cellMetadata": {},
     "inputWidgets": {},
     "nuid": "2930c27b-604b-4957-82ea-dc09ca46bedd",
     "showTitle": false,
     "tableResultSettingsMap": {},
     "title": ""
    }
   },
   "outputs": [],
   "source": []
  }
 ],
 "metadata": {
  "application/vnd.databricks.v1+notebook": {
   "computePreferences": null,
   "dashboards": [],
   "environmentMetadata": {
    "base_environment": "",
    "environment_version": "2"
   },
   "inputWidgetPreferences": null,
   "language": "python",
   "notebookMetadata": {
    "pythonIndentUnit": 4
   },
   "notebookName": "Class 4 Python Hands-on",
   "widgets": {}
  },
  "language_info": {
   "name": "python"
  }
 },
 "nbformat": 4,
 "nbformat_minor": 0
}
